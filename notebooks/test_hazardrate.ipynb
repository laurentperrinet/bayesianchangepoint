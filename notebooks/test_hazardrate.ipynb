{
 "cells": [
  {
   "cell_type": "code",
   "execution_count": null,
   "metadata": {
    "ExecuteTime": {
     "end_time": "2018-04-03T05:25:46.500755Z",
     "start_time": "2018-04-03T05:25:45.955490Z"
    }
   },
   "outputs": [],
   "source": [
    "%load_ext autoreload\n",
    "%autoreload 2\n",
    "from __future__ import division, print_function, absolute_import\n",
    "import numpy as np\n",
    "import matplotlib.pyplot as plt\n",
    "fig_width = 12\n",
    "%matplotlib inline"
   ]
  },
  {
   "cell_type": "markdown",
   "metadata": {},
   "source": [
    "\n",
    "# the switching binomial generative model\n"
   ]
  },
  {
   "cell_type": "code",
   "execution_count": null,
   "metadata": {
    "ExecuteTime": {
     "end_time": "2018-04-03T05:25:47.013067Z",
     "start_time": "2018-04-03T05:25:46.503099Z"
    }
   },
   "outputs": [],
   "source": [
    "import bayesianchangepoint as bcp\n",
    "\n",
    "seed = 51 #119 #2017 # 42\n",
    "np.random.seed(seed)\n",
    "\n",
    "mode = 'expectation'\n",
    "N_blocks = 3 # 4 blocks avant\n",
    "N_trials = 500\n",
    "max_run_length = 350\n",
    "Jeffreys = False\n",
    "Jeffreys = True\n",
    "tau = N_trials/10.\n",
    "h = 1/tau\n",
    "(trials, p) = bcp.switching_binomial_motion(N_trials=N_trials, N_blocks=N_blocks, tau=tau, seed=seed, Jeffreys=Jeffreys)\n"
   ]
  },
  {
   "cell_type": "markdown",
   "metadata": {},
   "source": [
    "## performing inference: application to synthetic data"
   ]
  },
  {
   "cell_type": "code",
   "execution_count": null,
   "metadata": {
    "ExecuteTime": {
     "end_time": "2018-04-03T05:25:49.368696Z",
     "start_time": "2018-04-03T05:25:47.015261Z"
    },
    "scrolled": false
   },
   "outputs": [],
   "source": [
    "for i_block in range(3):\n",
    "    print('i_block=', i_block)\n",
    "    o = p[:, i_block, 0]\n",
    "    p_bar, r, beliefs = bcp.inference(o, h=h, p0=.5)\n",
    "    fig, axs = bcp.plot_inference(p[:, i_block, 0], p[:, i_block, 1], p_bar, r, beliefs, mode=mode, max_run_length=max_run_length)\n",
    "    plt.show()"
   ]
  },
  {
   "cell_type": "markdown",
   "metadata": {},
   "source": [
    "## testing different hazard rates"
   ]
  },
  {
   "cell_type": "code",
   "execution_count": null,
   "metadata": {
    "ExecuteTime": {
     "end_time": "2018-04-03T05:25:53.222967Z",
     "start_time": "2018-04-03T05:25:49.371000Z"
    },
    "scrolled": false
   },
   "outputs": [],
   "source": [
    "hs = h*np.logspace(-1., 1., 5)\n",
    "for h_ in hs:\n",
    "    o = p[:, i_block, 0]\n",
    "    p_bar, r, beliefs = bcp.inference(o, h=h_, p0=.5)\n",
    "    fig, axs = bcp.plot_inference(o, p[:, i_block, 1], p_bar, r, beliefs, mode=mode, max_run_length=max_run_length)\n",
    "    fig.suptitle('h %.5f' % h_)\n",
    "    plt.show()"
   ]
  },
  {
   "cell_type": "markdown",
   "metadata": {},
   "source": [
    "## evaluating the best hazard rate using a likelihood score"
   ]
  },
  {
   "cell_type": "code",
   "execution_count": null,
   "metadata": {
    "ExecuteTime": {
     "end_time": "2018-04-03T05:26:29.581226Z",
     "start_time": "2018-04-03T05:25:53.233609Z"
    },
    "scrolled": false
   },
   "outputs": [],
   "source": [
    "N_scan = 15 # number of h values we test\n",
    "N_blocks = 100 # number of blocks we use in our evaluation\n",
    "\n",
    "N_blocks = 20 # number of blocks we use in our evaluation\n",
    "\n",
    "\n",
    "(trials, p) = bcp.switching_binomial_motion(N_trials=N_trials, N_blocks=N_blocks, tau=tau, seed=seed, Jeffreys=Jeffreys)\n",
    "\n",
    "hs = h*np.logspace(-2, 2, N_scan)\n",
    "modes = ['expectation', 'max', 'hindsight', 'fixed']\n",
    "score = np.zeros((len(modes), N_scan, N_blocks))\n",
    "for i_block in range(N_blocks):\n",
    "    o = p[:, i_block, 0] # observations\n",
    "    for i_scan, h_ in enumerate(hs):\n",
    "        p_bar, r, beliefs = bcp.inference(o, h=h_, p0=.5)\n",
    "        for i_mode, mode_ in enumerate(modes):\n",
    "            if mode_=='fixed': \n",
    "                p_hat, r_hat = bcp.readout(p_bar, r, beliefs, mode=mode_, fixed_window_size=int(1/h))\n",
    "            else:\n",
    "                p_hat, r_hat = bcp.readout(p_bar, r, beliefs, mode=mode_)\n",
    "            score[i_mode, i_scan, i_block] = np.mean(np.log2(1.e-12+bcp.likelihood(o, p_hat, r_hat)))\n",
    "            #score[i_mode, i_scan, i_block] = np.sum(np.abs(p_hat - p[:, i_block, 0]))\n",
    "\n",
    "            "
   ]
  },
  {
   "cell_type": "code",
   "execution_count": null,
   "metadata": {
    "ExecuteTime": {
     "end_time": "2018-04-03T05:26:30.418303Z",
     "start_time": "2018-04-03T05:26:29.583216Z"
    },
    "scrolled": false
   },
   "outputs": [],
   "source": [
    "#fig, ax = plt.subplots(1, 1, figsize=(8, 5))\n",
    "fig, ax = plt.subplots(1, 1, figsize=(15, 8))\n",
    "for i_mode, mode in enumerate(modes):\n",
    "    ax.errorbar(hs, np.nanmean(score[i_mode, ...], axis=1), yerr=np.std(score[i_mode, ...], axis=1), label=mode)\n",
    "\n",
    "ax.vlines(h, ymin=np.nanmin(score), ymax=np.nanmax(score), lw=2, label='true')\n",
    "ax.set_xscale(\"log\")#, nonposx='clip')\n",
    "\n",
    "ax.set_xlabel('Hazard rate')\n",
    "ax.set_ylabel('Mean log-likelihood (bits)')\n",
    "ax.legend();"
   ]
  },
  {
   "cell_type": "code",
   "execution_count": null,
   "metadata": {
    "ExecuteTime": {
     "end_time": "2018-04-03T05:26:30.458704Z",
     "start_time": "2018-04-03T05:26:30.421033Z"
    }
   },
   "outputs": [],
   "source": [
    "score[0, :, :]"
   ]
  },
  {
   "cell_type": "code",
   "execution_count": null,
   "metadata": {},
   "outputs": [],
   "source": []
  }
 ],
 "metadata": {
  "kernel_info": {
   "name": "python3"
  },
  "kernelspec": {
   "display_name": "Python 3",
   "language": "python",
   "name": "python3"
  },
  "language_info": {
   "codemirror_mode": {
    "name": "ipython",
    "version": 3
   },
   "file_extension": ".py",
   "mimetype": "text/x-python",
   "name": "python",
   "nbconvert_exporter": "python",
   "pygments_lexer": "ipython3",
   "version": "3.6.5"
  },
  "toc": {
   "nav_menu": {},
   "number_sections": true,
   "sideBar": true,
   "skip_h1_title": false,
   "toc_cell": false,
   "toc_position": {},
   "toc_section_display": "block",
   "toc_window_display": false
  }
 },
 "nbformat": 4,
 "nbformat_minor": 1
}
