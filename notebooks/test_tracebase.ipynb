{
 "cells": [
  {
   "cell_type": "code",
   "execution_count": null,
   "metadata": {
    "collapsed": true
   },
   "outputs": [],
   "source": [
    "%load_ext autoreload\n",
    "%autoreload 2\n",
    "from __future__ import division, print_function, absolute_import\n",
    "import numpy as np\n",
    "import matplotlib.pyplot as plt\n",
    "fig_width = 12\n",
    "%matplotlib inline"
   ]
  },
  {
   "cell_type": "markdown",
   "metadata": {},
   "source": [
    "\n",
    "# the switching binomial generative model\n"
   ]
  },
  {
   "cell_type": "markdown",
   "metadata": {},
   "source": [
    "## likelihood function"
   ]
  },
  {
   "cell_type": "code",
   "execution_count": null,
   "metadata": {},
   "outputs": [],
   "source": [
    "import bayesianchangepoint as bcp\n",
    "help(bcp.likelihood)"
   ]
  },
  {
   "cell_type": "code",
   "execution_count": null,
   "metadata": {},
   "outputs": [],
   "source": [
    "for p_ in [0, .25, .5, .75, 1]:\n",
    "    for r in (2**np.arange(5)-1):\n",
    "        print('Knowing p=', p_, 'and r=', r, ', the likelihood for 0=', bcp.likelihood(0, p_, r), ', for 1=', bcp.likelihood(1, p_, r), ', sum=', bcp.likelihood(0, p_, r)+bcp.likelihood(1, p_, r))"
   ]
  },
  {
   "cell_type": "code",
   "execution_count": null,
   "metadata": {},
   "outputs": [],
   "source": [
    "fig_width= fig_width\n",
    "fig, ax = plt.subplots(1, 1, figsize=(fig_width, fig_width/1.6180), sharex=True)\n",
    "\n",
    "p, r = np.meshgrid(np.linspace(0., 1., 200, endpoint=True), np.arange(50))\n",
    "\n",
    "L = bcp.likelihood(o=1, p=p, r=r)\n",
    "\n",
    "CS = ax.pcolormesh(p, r, L)\n",
    "#manual_locations = [(.7, 10), (.5, 20), (.3, 30), (.2, 35), (.15, 40)]\n",
    "#plt.clabel(CS, inline=1, fontsize=20, colors = 'k')#, manual=manual_locations)\n",
    "\n",
    "fig.tight_layout()\n",
    "#axs[i_layer].set_xlim(0, N_trials)\n",
    "#axs[i_layer].set_ylim(-.05, 1 + .05)\n",
    "#axs[i_layer].axis('tight')\n",
    "#            axs[i_layer].set_yticks(np.arange(1)+.5)\n",
    "#            axs[i_layer].set_yticklabels(np.arange(1) )\n",
    "ax.set_ylabel('run length', fontsize=14)\n",
    "#axs[i_layer].axis('tight')\n",
    "ax.set_xlabel('probability', fontsize=14);\n"
   ]
  },
  {
   "cell_type": "code",
   "execution_count": null,
   "metadata": {},
   "outputs": [],
   "source": [
    "print(L)"
   ]
  },
  {
   "cell_type": "markdown",
   "metadata": {},
   "source": [
    "## performing inference: application to synthetic data"
   ]
  },
  {
   "cell_type": "code",
   "execution_count": null,
   "metadata": {
    "scrolled": false
   },
   "outputs": [],
   "source": [
    "T = 400\n",
    "p_gen = .25 * np.ones(T)\n",
    "p_gen[100:300] = .75\n",
    "np.random.seed(42)\n",
    "o = 1 * (p_gen > np.random.rand(T))\n",
    "\n",
    "p_bar, r, beliefs = bcp.inference(o, h=1/200, p0=.5)\n",
    "fig, axs = bcp.plot_inference(o, p_gen, p_bar, r, beliefs, max_run_length=250)\n"
   ]
  },
  {
   "cell_type": "markdown",
   "metadata": {},
   "source": [
    "## testing different hazard rates"
   ]
  },
  {
   "cell_type": "code",
   "execution_count": null,
   "metadata": {
    "scrolled": false
   },
   "outputs": [],
   "source": [
    "for h_ in 1/200*np.logspace(-.5, .5, 5):\n",
    "    p_bar, r, beliefs = bcp.inference(o, h=h_, p0=.5)\n",
    "    fig, axs = bcp.plot_inference(o, p_gen, p_bar, r, beliefs, max_run_length=250)\n",
    "    fig.suptitle('h %.5f' % h_)\n",
    "    plt.show()"
   ]
  }
 ],
 "metadata": {
  "kernel_info": {
   "name": "python3"
  },
  "kernelspec": {
   "display_name": "Python 3",
   "language": "python",
   "name": "python3"
  },
  "language_info": {
   "codemirror_mode": {
    "name": "ipython",
    "version": 3
   },
   "file_extension": ".py",
   "mimetype": "text/x-python",
   "name": "python",
   "nbconvert_exporter": "python",
   "pygments_lexer": "ipython3",
   "version": "3.6.3"
  }
 },
 "nbformat": 4,
 "nbformat_minor": 1
}
