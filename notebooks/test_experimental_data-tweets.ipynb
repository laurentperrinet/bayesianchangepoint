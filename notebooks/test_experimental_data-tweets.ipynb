{
 "cells": [
  {
   "cell_type": "code",
   "execution_count": 1,
   "metadata": {
    "collapsed": true
   },
   "outputs": [],
   "source": [
    "%load_ext autoreload\n",
    "%autoreload 2\n",
    "from __future__ import division, print_function, absolute_import\n",
    "import numpy as np\n",
    "import matplotlib.pyplot as plt\n",
    "fig_width = 12\n",
    "%matplotlib inline"
   ]
  },
  {
   "cell_type": "code",
   "execution_count": 2,
   "metadata": {
    "collapsed": true
   },
   "outputs": [],
   "source": [
    "import bayesianchangepoint as bcp\n"
   ]
  },
  {
   "cell_type": "markdown",
   "metadata": {},
   "source": [
    "\n",
    "## performing inference: application to experimental data\n",
    "\n",
    "\n",
    "get your trump data:\n",
    "\n",
    "https://github.com/bpb27/trump_tweet_data_archive"
   ]
  },
  {
   "cell_type": "code",
   "execution_count": 3,
   "metadata": {},
   "outputs": [],
   "source": [
    "from io import BytesIO\n",
    "from zipfile import ZipFile\n",
    "import urllib.request\n",
    "import json\n",
    "\n",
    "datafile = '/tmp/trumpets.json'\n",
    "try:\n",
    "    with open(datafile, 'r') as f:\n",
    "        data = json.load(f)\n",
    "except:\n",
    "    years = [2, 3, 4, 5, 6, 7]\n",
    "    data = []\n",
    "    for year in years:\n",
    "        url = urllib.request.urlopen(\"https://github.com/bpb27/trump_tweet_data_archive/blob/master/master_201{0}.json.zip?raw=true\".format(str(year)))\n",
    "\n",
    "        with ZipFile(BytesIO(url.read())) as my_zip_file:\n",
    "            for contained_file in my_zip_file.namelist():\n",
    "                with my_zip_file.open(contained_file) as f:\n",
    "                    data.extend(json.load(f))\n",
    "    with open(datafile, 'w') as f:\n",
    "        json.dump(data, f)\n",
    "                "
   ]
  },
  {
   "cell_type": "code",
   "execution_count": 4,
   "metadata": {
    "scrolled": true
   },
   "outputs": [],
   "source": [
    "n_tweets = len(data)"
   ]
  },
  {
   "cell_type": "markdown",
   "metadata": {},
   "source": [
    "## example tweet"
   ]
  },
  {
   "cell_type": "code",
   "execution_count": 5,
   "metadata": {},
   "outputs": [
    {
     "data": {
      "text/plain": [
       "{'contributors': None,\n",
       " 'coordinates': None,\n",
       " 'created_at': 'Thu Dec 27 20:51:05 +0000 2012',\n",
       " 'entities': {'hashtags': [],\n",
       "  'symbols': [],\n",
       "  'urls': [{'display_url': 'youtu.be/74TFS8r_SMI',\n",
       "    'expanded_url': 'http://youtu.be/74TFS8r_SMI',\n",
       "    'indices': [29, 49],\n",
       "    'url': 'http://t.co/YeBeTEfe'}],\n",
       "  'user_mentions': [{'id': 23065354,\n",
       "    'id_str': '23065354',\n",
       "    'indices': [1, 11],\n",
       "    'name': 'Mac',\n",
       "    'screen_name': 'MacMiller'},\n",
       "   {'id': 10228272,\n",
       "    'id_str': '10228272',\n",
       "    'indices': [85, 93],\n",
       "    'name': 'YouTube',\n",
       "    'screen_name': 'YouTube'}]},\n",
       " 'favorite_count': 181,\n",
       " 'favorited': False,\n",
       " 'geo': None,\n",
       " 'id': 284401034523189249,\n",
       " 'id_str': '284401034523189249',\n",
       " 'in_reply_to_screen_name': None,\n",
       " 'in_reply_to_status_id': None,\n",
       " 'in_reply_to_status_id_str': None,\n",
       " 'in_reply_to_user_id': None,\n",
       " 'in_reply_to_user_id_str': None,\n",
       " 'is_quote_status': False,\n",
       " 'lang': 'en',\n",
       " 'place': None,\n",
       " 'possibly_sensitive': False,\n",
       " 'retweet_count': 364,\n",
       " 'retweeted': False,\n",
       " 'source': '<a href=\"http://twitter.com\" rel=\"nofollow\">Twitter Web Client</a>',\n",
       " 'text': '.@MacMiller’s “Donald Trump” http://t.co/YeBeTEfe just crossed 73.5 million views on @YouTube.  You’re welcome Mac!',\n",
       " 'truncated': False,\n",
       " 'user': {'contributors_enabled': False,\n",
       "  'created_at': 'Wed Mar 18 13:46:38 +0000 2009',\n",
       "  'default_profile': False,\n",
       "  'default_profile_image': False,\n",
       "  'description': 'President-elect of the United States',\n",
       "  'entities': {'description': {'urls': []},\n",
       "   'url': {'urls': [{'display_url': 'DonaldJTrump.com',\n",
       "      'expanded_url': 'http://www.DonaldJTrump.com',\n",
       "      'indices': [0, 23],\n",
       "      'url': 'https://t.co/mZB2hymxC9'}]}},\n",
       "  'favourites_count': 45,\n",
       "  'follow_request_sent': False,\n",
       "  'followers_count': 15667784,\n",
       "  'following': True,\n",
       "  'friends_count': 41,\n",
       "  'geo_enabled': True,\n",
       "  'has_extended_profile': False,\n",
       "  'id': 25073877,\n",
       "  'id_str': '25073877',\n",
       "  'is_translation_enabled': True,\n",
       "  'is_translator': False,\n",
       "  'lang': 'en',\n",
       "  'listed_count': 45250,\n",
       "  'location': 'New York, NY',\n",
       "  'name': 'Donald J. Trump',\n",
       "  'notifications': True,\n",
       "  'profile_background_color': '6D5C18',\n",
       "  'profile_background_image_url': 'http://pbs.twimg.com/profile_background_images/530021613/trump_scotland__43_of_70_cc.jpg',\n",
       "  'profile_background_image_url_https': 'https://pbs.twimg.com/profile_background_images/530021613/trump_scotland__43_of_70_cc.jpg',\n",
       "  'profile_background_tile': True,\n",
       "  'profile_banner_url': 'https://pbs.twimg.com/profile_banners/25073877/1479267159',\n",
       "  'profile_image_url': 'http://pbs.twimg.com/profile_images/1980294624/DJT_Headshot_V2_normal.jpg',\n",
       "  'profile_image_url_https': 'https://pbs.twimg.com/profile_images/1980294624/DJT_Headshot_V2_normal.jpg',\n",
       "  'profile_link_color': '0D5B73',\n",
       "  'profile_sidebar_border_color': 'BDDCAD',\n",
       "  'profile_sidebar_fill_color': 'C5CEC0',\n",
       "  'profile_text_color': '333333',\n",
       "  'profile_use_background_image': True,\n",
       "  'protected': False,\n",
       "  'screen_name': 'realDonaldTrump',\n",
       "  'statuses_count': 34010,\n",
       "  'time_zone': 'Eastern Time (US & Canada)',\n",
       "  'translator_type': 'none',\n",
       "  'url': 'https://t.co/mZB2hymxC9',\n",
       "  'utc_offset': -18000,\n",
       "  'verified': True}}"
      ]
     },
     "execution_count": 5,
     "metadata": {},
     "output_type": "execute_result"
    }
   ],
   "source": [
    "d = data[34]\n",
    "d#.keys()#['followers_count']"
   ]
  },
  {
   "cell_type": "markdown",
   "metadata": {},
   "source": [
    "## evolution of followers"
   ]
  },
  {
   "cell_type": "code",
   "execution_count": 6,
   "metadata": {},
   "outputs": [
    {
     "data": {
      "image/png": "[encoded data removed]",
      "text/plain": [
       "<matplotlib.figure.Figure at 0x1255c1a20>"
      ]
     },
     "metadata": {},
     "output_type": "display_data"
    }
   ],
   "source": [
    "followers = [data[i]['user']['followers_count'] for i in range(n_tweets)]\n",
    "plt.plot(followers);"
   ]
  },
  {
   "cell_type": "code",
   "execution_count": 7,
   "metadata": {},
   "outputs": [
    {
     "data": {
      "text/plain": [
       "'to all americans-\\n#happynewyear &amp; many blessings to you all! looking forward to a wonderful &amp; prosperous 2017 as we… https://t.co/1asdmal4iy'"
      ]
     },
     "execution_count": 7,
     "metadata": {},
     "output_type": "execute_result"
    }
   ],
   "source": [
    "i= 42\n",
    "data_texts = []\n",
    "for i in range(n_tweets):\n",
    "    try:\n",
    "        data_texts.append(data[i]['full_text'].lower())\n",
    "    except KeyError:\n",
    "        data_texts.append(data[i]['text'].lower())\n",
    "\n",
    "data_texts[i]"
   ]
  },
  {
   "cell_type": "code",
   "execution_count": null,
   "metadata": {},
   "outputs": [
    {
     "name": "stdout",
     "output_type": "stream",
     "text": [
      "2554 tweets contain the word \" america \" on a total of  31306 tweets\n"
     ]
    }
   ],
   "source": [
    "word = 'america'\n",
    "contains_word = np.array([(word in data_text) for data_text in data_texts])\n",
    "print(sum(contains_word), 'tweets contain the word \"', word, '\" on a total of ', n_tweets, 'tweets')"
   ]
  },
  {
   "cell_type": "code",
   "execution_count": null,
   "metadata": {
    "collapsed": true
   },
   "outputs": [],
   "source": [
    "p_bar, r, beliefs = bcp.inference(contains_word, h=1/1500, p0=.5)"
   ]
  },
  {
   "cell_type": "code",
   "execution_count": null,
   "metadata": {
    "scrolled": false
   },
   "outputs": [],
   "source": [
    "fig, axs = bcp.plot_inference(contains_word, None, p_bar, r, beliefs, mode='max', max_run_length=2500)"
   ]
  },
  {
   "cell_type": "code",
   "execution_count": null,
   "metadata": {},
   "outputs": [],
   "source": [
    "datetimes = [data[i]['created_at'] for i in range(n_tweets)]\n",
    "print('|'+datetimes[0]+'|')"
   ]
  },
  {
   "cell_type": "code",
   "execution_count": null,
   "metadata": {},
   "outputs": [],
   "source": [
    "import locale\n",
    "locale.getlocale()"
   ]
  },
  {
   "cell_type": "code",
   "execution_count": null,
   "metadata": {},
   "outputs": [],
   "source": [
    "from datetime import datetime\n",
    "\n",
    "datetimes = [datetime.strptime(data[i]['created_at'], '%a %b %d %H:%M:%S %z %Y') for i in range(n_tweets)]\n",
    "print('Timestamp=', datetimes[0].timestamp())"
   ]
  },
  {
   "cell_type": "code",
   "execution_count": null,
   "metadata": {},
   "outputs": [],
   "source": [
    "from datetime import datetime\n",
    "\n",
    "datetimes = np.array([datetime.strptime(data[i]['created_at'], '%a %b %d %H:%M:%S %z %Y').timestamp() for i in range(n_tweets)])\n",
    "print('Timestamp=', (datetimes[0]))"
   ]
  },
  {
   "cell_type": "code",
   "execution_count": null,
   "metadata": {},
   "outputs": [],
   "source": [
    "from datetime import datetime\n",
    "\n",
    "datetimes = [datetime.strptime(data[i]['created_at'], '%a %b %d %H:%M:%S %z %Y') for i in range(n_tweets)]\n",
    "print('Timestamp=', datetimes[0].timestamp())"
   ]
  },
  {
   "cell_type": "markdown",
   "metadata": {},
   "source": [
    "\n",
    "Using https://matplotlib.org/examples/api/date_demo.html"
   ]
  },
  {
   "cell_type": "code",
   "execution_count": null,
   "metadata": {},
   "outputs": [],
   "source": [
    "import datetime\n",
    "import matplotlib.dates as mdates\n",
    "import matplotlib.cbook as cbook\n",
    "years = mdates.YearLocator()   # every year\n",
    "months = mdates.MonthLocator()  # every month\n",
    "yearsFmt = mdates.DateFormatter('%Y')\n",
    "fig_width = 13\n",
    "fig, ax = plt.subplots(figsize=(fig_width, fig_width/1.6180))\n",
    "\n",
    "p_hat, r_hat = bcp.readout(p_bar, r, beliefs)#, mode='max')\n",
    "\n",
    "ax.plot(datetimes, p_hat)\n",
    "\n",
    "\n",
    "#datemin = datetime.date(datetimes.min(), 1, 1)\n",
    "#datemax = datetime.date(datetimes.max() + 1, 1, 1)\n",
    "#ax.set_xlim(datemin, datemax)\n",
    "ax.xaxis.set_major_locator(years)\n",
    "ax.xaxis.set_major_formatter(yearsFmt)\n",
    "ax.xaxis.set_minor_locator(months)\n",
    "ax.format_xdata = mdates.DateFormatter('%Y-%m-%d')\n"
   ]
  }
 ],
 "metadata": {
  "kernel_info": {
   "name": "python3"
  },
  "kernelspec": {
   "display_name": "Python 3",
   "language": "python",
   "name": "python3"
  },
  "language_info": {
   "codemirror_mode": {
    "name": "ipython",
    "version": 3
   },
   "file_extension": ".py",
   "mimetype": "text/x-python",
   "name": "python",
   "nbconvert_exporter": "python",
   "pygments_lexer": "ipython3",
   "version": "3.6.3"
  }
 },
 "nbformat": 4,
 "nbformat_minor": 1
}
