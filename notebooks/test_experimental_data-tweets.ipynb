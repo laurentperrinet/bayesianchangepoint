{
 "cells": [
  {
   "cell_type": "code",
   "execution_count": 1,
   "metadata": {
    "ExecuteTime": {
     "end_time": "2018-03-30T10:25:51.146021Z",
     "start_time": "2018-03-30T10:25:50.797048Z"
    }
   },
   "outputs": [],
   "source": [
    "%load_ext autoreload\n",
    "%autoreload 2\n",
    "from __future__ import division, print_function, absolute_import\n",
    "import numpy as np\n",
    "import matplotlib.pyplot as plt\n",
    "fig_width = 12\n",
    "%matplotlib inline"
   ]
  },
  {
   "cell_type": "code",
   "execution_count": 2,
   "metadata": {
    "ExecuteTime": {
     "end_time": "2018-03-30T10:25:51.162985Z",
     "start_time": "2018-03-30T10:25:51.147767Z"
    }
   },
   "outputs": [],
   "source": [
    "import bayesianchangepoint as bcp"
   ]
  },
  {
   "cell_type": "markdown",
   "metadata": {},
   "source": [
    "\n",
    "## performing inference: application to experimental data\n",
    "\n",
    "\n",
    "get your trump data:\n",
    "\n",
    "https://github.com/bpb27/trump_tweet_data_archive"
   ]
  },
  {
   "cell_type": "code",
   "execution_count": 3,
   "metadata": {
    "ExecuteTime": {
     "end_time": "2018-03-30T10:25:53.263139Z",
     "start_time": "2018-03-30T10:25:51.164806Z"
    },
    "scrolled": false
   },
   "outputs": [],
   "source": [
    "from io import BytesIO\n",
    "from zipfile import ZipFile\n",
    "import urllib.request\n",
    "import json\n",
    "\n",
    "datafile = 'trumpets.json'\n",
    "datafile = '/tmp/trumpets.json'\n",
    "\n",
    "try:\n",
    "    with open(datafile, 'r') as f:\n",
    "        data = json.load(f)\n",
    "except:\n",
    "    years = [8] #[2, 3, 4, 5, 6, 7]\n",
    "    years = [6, 7]\n",
    "    years = [2, 3, 4, 5, 6, 7, 8]\n",
    "    data = []\n",
    "    arctype = 'condensed'\n",
    "    arctype = 'master'\n",
    "    for year in years:\n",
    "        url = urllib.request.urlopen(\"https://github.com/bpb27/trump_tweet_data_archive/blob/master/{arctype}_201{Y}.json.zip?raw=true\".format(arctype=arctype, Y=str(year)))\n",
    "        print('Downloading ', url, '...')\n",
    "        with ZipFile(BytesIO(url.read())) as my_zip_file:\n",
    "            for contained_file in my_zip_file.namelist():\n",
    "                with my_zip_file.open(contained_file) as f:\n",
    "                    #data.extend(json.load(f))\n",
    "                    data.extend(json.loads(f.read().decode('utf-8')))\n",
    "    with open(datafile, 'w') as f:\n",
    "        json.dump(data, f)          "
   ]
  },
  {
   "cell_type": "code",
   "execution_count": 4,
   "metadata": {
    "ExecuteTime": {
     "end_time": "2018-03-30T10:25:53.403204Z",
     "start_time": "2018-03-30T10:25:53.264706Z"
    }
   },
   "outputs": [
    {
     "name": "stdout",
     "output_type": "stream",
     "text": [
      "-rw-r--r--  1 laurentperrinet  wheel  104547830 Mar 29 17:16 /tmp/trumpets.json\r\n"
     ]
    }
   ],
   "source": [
    "!ls -ltr /tmp/*json"
   ]
  },
  {
   "cell_type": "raw",
   "metadata": {
    "ExecuteTime": {
     "end_time": "2018-03-29T15:15:59.870892Z",
     "start_time": "2018-03-29T15:15:59.724393Z"
    }
   },
   "source": [
    "!rm -fr /tmp/trumpets.json"
   ]
  },
  {
   "cell_type": "code",
   "execution_count": 5,
   "metadata": {
    "ExecuteTime": {
     "end_time": "2018-03-30T10:25:53.421602Z",
     "start_time": "2018-03-30T10:25:53.406056Z"
    },
    "scrolled": true
   },
   "outputs": [
    {
     "name": "stdout",
     "output_type": "stream",
     "text": [
      "number ow tweets= 34430\n"
     ]
    }
   ],
   "source": [
    "n_tweets = len(data)\n",
    "print('number ow tweets=', n_tweets)"
   ]
  },
  {
   "cell_type": "markdown",
   "metadata": {},
   "source": [
    "## example tweet"
   ]
  },
  {
   "cell_type": "code",
   "execution_count": 6,
   "metadata": {
    "ExecuteTime": {
     "end_time": "2018-03-30T10:25:53.440518Z",
     "start_time": "2018-03-30T10:25:53.423354Z"
    }
   },
   "outputs": [
    {
     "data": {
      "text/plain": [
       "{'contributors': None,\n",
       " 'coordinates': None,\n",
       " 'created_at': 'Wed Aug 22 12:58:42 +0000 2012',\n",
       " 'entities': {'hashtags': [],\n",
       "  'symbols': [],\n",
       "  'urls': [],\n",
       "  'user_mentions': [{'id': 813286,\n",
       "    'id_str': '813286',\n",
       "    'indices': [14, 26],\n",
       "    'name': 'Barack Obama',\n",
       "    'screen_name': 'BarackObama'},\n",
       "   {'id': 50055701,\n",
       "    'id_str': '50055701',\n",
       "    'indices': [41, 52],\n",
       "    'name': 'Mitt Romney',\n",
       "    'screen_name': 'MittRomney'}]},\n",
       " 'favorite_count': 156,\n",
       " 'favorited': False,\n",
       " 'geo': None,\n",
       " 'id': 238258896152698880,\n",
       " 'id_str': '238258896152698880',\n",
       " 'in_reply_to_screen_name': None,\n",
       " 'in_reply_to_status_id': None,\n",
       " 'in_reply_to_status_id_str': None,\n",
       " 'in_reply_to_user_id': None,\n",
       " 'in_reply_to_user_id_str': None,\n",
       " 'is_quote_status': False,\n",
       " 'lang': 'en',\n",
       " 'place': None,\n",
       " 'retweet_count': 954,\n",
       " 'retweeted': False,\n",
       " 'source': '<a href=\"http://twitter.com\" rel=\"nofollow\">Twitter Web Client</a>',\n",
       " 'text': \"I am tired of @BarackObama talking about @MittRomney's father. Why don't we discuss Barack Obama Sr.!\",\n",
       " 'truncated': False,\n",
       " 'user': {'contributors_enabled': False,\n",
       "  'created_at': 'Wed Mar 18 13:46:38 +0000 2009',\n",
       "  'default_profile': False,\n",
       "  'default_profile_image': False,\n",
       "  'description': 'President-elect of the United States',\n",
       "  'entities': {'description': {'urls': []},\n",
       "   'url': {'urls': [{'display_url': 'DonaldJTrump.com',\n",
       "      'expanded_url': 'http://www.DonaldJTrump.com',\n",
       "      'indices': [0, 23],\n",
       "      'url': 'https://t.co/mZB2hymxC9'}]}},\n",
       "  'favourites_count': 45,\n",
       "  'follow_request_sent': False,\n",
       "  'followers_count': 15667756,\n",
       "  'following': True,\n",
       "  'friends_count': 41,\n",
       "  'geo_enabled': True,\n",
       "  'has_extended_profile': False,\n",
       "  'id': 25073877,\n",
       "  'id_str': '25073877',\n",
       "  'is_translation_enabled': True,\n",
       "  'is_translator': False,\n",
       "  'lang': 'en',\n",
       "  'listed_count': 45250,\n",
       "  'location': 'New York, NY',\n",
       "  'name': 'Donald J. Trump',\n",
       "  'notifications': True,\n",
       "  'profile_background_color': '6D5C18',\n",
       "  'profile_background_image_url': 'http://pbs.twimg.com/profile_background_images/530021613/trump_scotland__43_of_70_cc.jpg',\n",
       "  'profile_background_image_url_https': 'https://pbs.twimg.com/profile_background_images/530021613/trump_scotland__43_of_70_cc.jpg',\n",
       "  'profile_background_tile': True,\n",
       "  'profile_banner_url': 'https://pbs.twimg.com/profile_banners/25073877/1479267159',\n",
       "  'profile_image_url': 'http://pbs.twimg.com/profile_images/1980294624/DJT_Headshot_V2_normal.jpg',\n",
       "  'profile_image_url_https': 'https://pbs.twimg.com/profile_images/1980294624/DJT_Headshot_V2_normal.jpg',\n",
       "  'profile_link_color': '0D5B73',\n",
       "  'profile_sidebar_border_color': 'BDDCAD',\n",
       "  'profile_sidebar_fill_color': 'C5CEC0',\n",
       "  'profile_text_color': '333333',\n",
       "  'profile_use_background_image': True,\n",
       "  'protected': False,\n",
       "  'screen_name': 'realDonaldTrump',\n",
       "  'statuses_count': 34010,\n",
       "  'time_zone': 'Eastern Time (US & Canada)',\n",
       "  'translator_type': 'none',\n",
       "  'url': 'https://t.co/mZB2hymxC9',\n",
       "  'utc_offset': -18000,\n",
       "  'verified': True}}"
      ]
     },
     "execution_count": 6,
     "metadata": {},
     "output_type": "execute_result"
    }
   ],
   "source": [
    "i_sample = 42\n",
    "i_sample = 1973\n",
    "d = data[i_sample]\n",
    "d#.keys()#['followers_count']"
   ]
  },
  {
   "cell_type": "markdown",
   "metadata": {},
   "source": [
    "## learning to handle datetimes\n",
    "\n",
    "https://docs.python.org/3/library/datetime.html\n"
   ]
  },
  {
   "cell_type": "code",
   "execution_count": 7,
   "metadata": {
    "ExecuteTime": {
     "end_time": "2018-03-30T10:25:53.630559Z",
     "start_time": "2018-03-30T10:25:53.442189Z"
    },
    "scrolled": true
   },
   "outputs": [
    {
     "data": {
      "image/png": "[encoded data removed]",
      "text/plain": [
       "<Figure size 432x288 with 1 Axes>"
      ]
     },
     "metadata": {},
     "output_type": "display_data"
    }
   ],
   "source": [
    "followers = [data[i]['user']['followers_count'] for i in range(n_tweets)]\n",
    "plt.plot(followers);"
   ]
  },
  {
   "cell_type": "code",
   "execution_count": 8,
   "metadata": {
    "ExecuteTime": {
     "end_time": "2018-03-30T10:25:53.675629Z",
     "start_time": "2018-03-30T10:25:53.632304Z"
    }
   },
   "outputs": [
    {
     "data": {
      "text/plain": [
       "\"i am tired of @barackobama talking about @mittromney's father. why don't we discuss barack obama sr.!\""
      ]
     },
     "execution_count": 8,
     "metadata": {},
     "output_type": "execute_result"
    }
   ],
   "source": [
    "data_texts = []\n",
    "for i_tweet in range(n_tweets):\n",
    "    try:\n",
    "        data_texts.append(data[i_sample]['full_text'].lower())\n",
    "    except KeyError:\n",
    "        data_texts.append(data[i_sample]['text'].lower())\n",
    "\n",
    "data_texts[i_sample]"
   ]
  },
  {
   "cell_type": "code",
   "execution_count": 9,
   "metadata": {
    "ExecuteTime": {
     "end_time": "2018-03-30T10:25:53.755283Z",
     "start_time": "2018-03-30T10:25:53.677253Z"
    }
   },
   "outputs": [
    {
     "name": "stdout",
     "output_type": "stream",
     "text": [
      "0 tweets contain the word \" ? \" on a total of  34430 tweets\n"
     ]
    }
   ],
   "source": [
    "word = 'america'\n",
    "word = '?'\n",
    "contains_word = np.array([(word in data_text) for data_text in data_texts])\n",
    "print(sum(contains_word), 'tweets contain the word \"', word, '\" on a total of ', n_tweets, 'tweets')"
   ]
  },
  {
   "cell_type": "code",
   "execution_count": 10,
   "metadata": {
    "ExecuteTime": {
     "end_time": "2018-03-30T10:25:53.793184Z",
     "start_time": "2018-03-30T10:25:53.756875Z"
    }
   },
   "outputs": [
    {
     "name": "stdout",
     "output_type": "stream",
     "text": [
      "|Fri Dec 28 21:23:54 +0000 2012|\n"
     ]
    }
   ],
   "source": [
    "datetimes = [data[i]['created_at'] for i in range(n_tweets)]\n",
    "print('|'+datetimes[0]+'|')"
   ]
  },
  {
   "cell_type": "code",
   "execution_count": 11,
   "metadata": {
    "ExecuteTime": {
     "end_time": "2018-03-30T10:25:53.808688Z",
     "start_time": "2018-03-30T10:25:53.795027Z"
    }
   },
   "outputs": [
    {
     "data": {
      "text/plain": [
       "('en_US', 'UTF-8')"
      ]
     },
     "execution_count": 11,
     "metadata": {},
     "output_type": "execute_result"
    }
   ],
   "source": [
    "import locale\n",
    "locale.getlocale()"
   ]
  },
  {
   "cell_type": "code",
   "execution_count": 12,
   "metadata": {
    "ExecuteTime": {
     "end_time": "2018-03-30T10:25:54.323228Z",
     "start_time": "2018-03-30T10:25:53.810381Z"
    }
   },
   "outputs": [
    {
     "name": "stdout",
     "output_type": "stream",
     "text": [
      "Timestamp= 1356729834.0\n"
     ]
    }
   ],
   "source": [
    "from datetime import datetime\n",
    "\n",
    "datetimes = [datetime.strptime(data[i]['created_at'], '%a %b %d %H:%M:%S %z %Y') for i in range(n_tweets)]\n",
    "print('Timestamp=', datetimes[0].timestamp())"
   ]
  },
  {
   "cell_type": "code",
   "execution_count": 13,
   "metadata": {
    "ExecuteTime": {
     "end_time": "2018-03-30T10:25:54.842863Z",
     "start_time": "2018-03-30T10:25:54.325038Z"
    }
   },
   "outputs": [
    {
     "name": "stdout",
     "output_type": "stream",
     "text": [
      "Timestamp= 1356729834.0\n"
     ]
    }
   ],
   "source": [
    "from datetime import datetime\n",
    "\n",
    "datetimes = np.array([datetime.strptime(data[i]['created_at'], '%a %b %d %H:%M:%S %z %Y').timestamp() for i in range(n_tweets)])\n",
    "print('Timestamp=', (datetimes[0]))"
   ]
  },
  {
   "cell_type": "code",
   "execution_count": 14,
   "metadata": {
    "ExecuteTime": {
     "end_time": "2018-03-30T10:25:55.361228Z",
     "start_time": "2018-03-30T10:25:54.844541Z"
    }
   },
   "outputs": [
    {
     "name": "stdout",
     "output_type": "stream",
     "text": [
      "Timestamp= 1356729834.0\n"
     ]
    }
   ],
   "source": [
    "from datetime import datetime\n",
    "\n",
    "datetimes = [datetime.strptime(data[i]['created_at'], '%a %b %d %H:%M:%S %z %Y') for i in range(n_tweets)]\n",
    "print('Timestamp=', datetimes[0].timestamp())"
   ]
  },
  {
   "cell_type": "code",
   "execution_count": 15,
   "metadata": {
    "ExecuteTime": {
     "end_time": "2018-03-30T10:25:55.824266Z",
     "start_time": "2018-03-30T10:25:55.363008Z"
    }
   },
   "outputs": [
    {
     "data": {
      "image/png": "[encoded data removed]",
      "text/plain": [
       "<Figure size 936x578.492 with 1 Axes>"
      ]
     },
     "metadata": {},
     "output_type": "display_data"
    }
   ],
   "source": [
    "fig_width = 13\n",
    "fig, ax = plt.subplots(figsize=(fig_width, fig_width/1.6180))\n",
    "ax.plot(datetimes);"
   ]
  },
  {
   "cell_type": "markdown",
   "metadata": {},
   "source": [
    "It seems that within each year, tweets are in inverse chronological order. \n",
    "Let's sort things:"
   ]
  },
  {
   "cell_type": "code",
   "execution_count": 16,
   "metadata": {
    "ExecuteTime": {
     "end_time": "2018-03-30T10:25:56.284341Z",
     "start_time": "2018-03-30T10:25:55.826051Z"
    }
   },
   "outputs": [
    {
     "data": {
      "image/png": "[encoded data removed]",
      "text/plain": [
       "<Figure size 936x578.492 with 1 Axes>"
      ]
     },
     "metadata": {},
     "output_type": "display_data"
    }
   ],
   "source": [
    "datetimes = np.array(datetimes)\n",
    "ind_tweets = np.argsort(datetimes)\n",
    "\n",
    "fig, ax = plt.subplots(figsize=(fig_width, fig_width/1.6180))\n",
    "ax.plot(datetimes[ind_tweets]);"
   ]
  },
  {
   "cell_type": "markdown",
   "metadata": {},
   "source": [
    "We will be using https://matplotlib.org/examples/api/date_demo.html"
   ]
  },
  {
   "cell_type": "markdown",
   "metadata": {},
   "source": [
    "## evolution of followers"
   ]
  },
  {
   "cell_type": "code",
   "execution_count": 17,
   "metadata": {
    "ExecuteTime": {
     "end_time": "2018-03-30T10:25:56.300357Z",
     "start_time": "2018-03-30T10:25:56.286635Z"
    }
   },
   "outputs": [],
   "source": [
    "import datetime\n",
    "import matplotlib.dates as mdates\n",
    "import matplotlib.cbook as cbook\n",
    "years = mdates.YearLocator()   # every year\n",
    "months = mdates.MonthLocator()  # every month\n",
    "yearsFmt = mdates.DateFormatter('%Y')\n"
   ]
  },
  {
   "cell_type": "code",
   "execution_count": 18,
   "metadata": {
    "ExecuteTime": {
     "end_time": "2018-03-30T10:25:56.844002Z",
     "start_time": "2018-03-30T10:25:56.302265Z"
    }
   },
   "outputs": [
    {
     "data": {
      "image/png": "[encoded data removed]",
      "text/plain": [
       "<Figure size 936x578.492 with 1 Axes>"
      ]
     },
     "metadata": {},
     "output_type": "display_data"
    }
   ],
   "source": [
    "followers = np.array([data[i]['user']['followers_count'] for i in range(n_tweets)])\n",
    "\n",
    "fig_width = 13\n",
    "fig, ax = plt.subplots(figsize=(fig_width, fig_width/1.6180))\n",
    "ax.plot(datetimes[ind_tweets], followers[ind_tweets])\n",
    "ax.xaxis.set_major_locator(years)\n",
    "ax.xaxis.set_major_formatter(yearsFmt)\n",
    "ax.xaxis.set_minor_locator(months)\n",
    "ax.format_xdata = mdates.DateFormatter('%Y-%m-%d');"
   ]
  },
  {
   "cell_type": "code",
   "execution_count": 19,
   "metadata": {
    "ExecuteTime": {
     "end_time": "2018-03-30T10:25:56.921431Z",
     "start_time": "2018-03-30T10:25:56.845586Z"
    }
   },
   "outputs": [
    {
     "data": {
      "text/plain": [
       "'to all americans-\\n#happynewyear &amp; many blessings to you all! looking forward to a wonderful &amp; prosperous 2017 as we… https://t.co/1asdmal4iy'"
      ]
     },
     "execution_count": 19,
     "metadata": {},
     "output_type": "execute_result"
    }
   ],
   "source": [
    "i= 42\n",
    "data_texts = []\n",
    "for i in range(n_tweets):\n",
    "    try:\n",
    "        data_texts.append(data[i]['full_text'].lower())\n",
    "    except KeyError:\n",
    "        data_texts.append(data[i]['text'].lower())\n",
    "\n",
    "data_texts[i]"
   ]
  },
  {
   "cell_type": "code",
   "execution_count": 20,
   "metadata": {
    "ExecuteTime": {
     "end_time": "2018-03-30T10:25:57.063185Z",
     "start_time": "2018-03-30T10:25:56.922995Z"
    }
   },
   "outputs": [
    {
     "name": "stdout",
     "output_type": "stream",
     "text": [
      "2948 tweets contain the word \" america \" on a total of  34430 tweets\n",
      "That is, an average probability of p0=  0.08562300319488818\n"
     ]
    }
   ],
   "source": [
    "word = 'america'\n",
    "contains_word = np.array([(word in data_text) for data_text in data_texts])\n",
    "print(sum(contains_word), 'tweets contain the word \"', word, '\" on a total of ', n_tweets, 'tweets')\n",
    "p0 = sum(contains_word) / n_tweets\n",
    "print('That is, an average probability of p0= ', p0)"
   ]
  },
  {
   "cell_type": "markdown",
   "metadata": {},
   "source": [
    "## detecting change points\n",
    "\n"
   ]
  },
  {
   "cell_type": "code",
   "execution_count": 21,
   "metadata": {
    "ExecuteTime": {
     "end_time": "2018-03-30T10:25:57.137947Z",
     "start_time": "2018-03-30T10:25:57.064724Z"
    }
   },
   "outputs": [],
   "source": [
    "h = 1/500\n",
    "max_run_length = int(6/h)\n",
    "p0 = sum(contains_word) / n_tweets"
   ]
  },
  {
   "cell_type": "code",
   "execution_count": null,
   "metadata": {
    "ExecuteTime": {
     "start_time": "2018-03-30T10:25:50.824Z"
    }
   },
   "outputs": [],
   "source": [
    "p_bar, r, beliefs = bcp.inference(contains_word[ind_tweets], h=h, p0=p0)"
   ]
  },
  {
   "cell_type": "code",
   "execution_count": null,
   "metadata": {
    "ExecuteTime": {
     "start_time": "2018-03-30T10:25:50.827Z"
    },
    "scrolled": false
   },
   "outputs": [],
   "source": [
    "fig, axs = bcp.plot_inference(contains_word[ind_tweets], None, p_bar, r, beliefs, mode='max', max_run_length=max_run_length)\n",
    "ax = axs[-1]\n",
    "ax.xaxis.set_major_locator(years)\n",
    "ax.xaxis.set_major_formatter(yearsFmt)\n",
    "ax.xaxis.set_minor_locator(months)\n",
    "ax.format_xdata = mdates.DateFormatter('%Y-%m-%d')"
   ]
  },
  {
   "cell_type": "markdown",
   "metadata": {},
   "source": [
    "## wraping things up"
   ]
  },
  {
   "cell_type": "code",
   "execution_count": null,
   "metadata": {
    "ExecuteTime": {
     "start_time": "2018-03-30T10:25:50.829Z"
    },
    "scrolled": false
   },
   "outputs": [],
   "source": [
    "fig_width = 13\n",
    "fig, ax = plt.subplots(figsize=(fig_width, fig_width/1.6180))\n",
    "\n",
    "\n",
    "for word, c in zip(['?', '!', 'america', 'russia'], ['b', 'r', 'k', 'g']): \n",
    "    \n",
    "    import pickle\n",
    "    filename = \"data_cache/\" + word + \".pkl\"\n",
    "    try:\n",
    "        with open(filename, 'rb') as f:\n",
    "            word_stats = pickle.load(f)\n",
    "    except:\n",
    "        try:\n",
    "            os.mkdir('data_cache')\n",
    "        except:\n",
    "            pass\n",
    "        word_stats = {}\n",
    "        \n",
    "        contains_word = np.array([(word in data_text) for data_text in data_texts])\n",
    "        p0 = sum(contains_word) / n_tweets\n",
    "\n",
    "        word_stats['p_bar'], word_stats['r'], word_stats['beliefs'] = bcp.inference(contains_word[ind_tweets], h=h, p0=p0, max_T=max_run_length)\n",
    "\n",
    "        with open(filename, 'wb') as f:\n",
    "            pickle.dump(word_stats, f)\n",
    "\n",
    "    p_hat, r_hat = bcp.readout(word_stats['p_bar'], word_stats['r'], word_stats['beliefs'])#, mode='max')\n",
    "    \n",
    "    ax.plot(datetimes[ind_tweets], p_hat, c=c, label=word)\n",
    "    #ax.plot(datetimes)\n",
    "\n",
    "\n",
    "    #datemin = datetime.date(datetimes.min(), 1, 1)\n",
    "    #datemax = datetime.date(datetimes.max() + 1, 1, 1)\n",
    "    #ax.set_xlim(datemin, datemax)\n",
    "    ax.xaxis.set_major_locator(years)\n",
    "    ax.xaxis.set_major_formatter(yearsFmt)\n",
    "    ax.xaxis.set_minor_locator(months)\n",
    "    ax.format_xdata = mdates.DateFormatter('%Y-%m-%d')\n",
    "    #ax.set_yscale('log')\n",
    "ax.set_xlabel('Date')\n",
    "ax.set_ylabel('Estimated probability')    \n",
    "ax.legend(loc='best')"
   ]
  },
  {
   "cell_type": "code",
   "execution_count": null,
   "metadata": {
    "ExecuteTime": {
     "start_time": "2018-03-30T10:25:50.830Z"
    }
   },
   "outputs": [],
   "source": [
    "fig_width = 13\n",
    "fig, ax = plt.subplots(figsize=(fig_width, fig_width/1.6180))\n",
    "\n",
    "\n",
    "for word, c in zip(['obama', 'hillary', 'putin', 'pence'], ['b', 'r', 'k', 'g']): \n",
    "    \n",
    "    import pickle\n",
    "    filename = \"data_cache/\" + word + \".pkl\"\n",
    "    try:\n",
    "        with open(filename, 'rb') as f:\n",
    "            word_stats = pickle.load(f)\n",
    "    except:\n",
    "        try:\n",
    "            os.mkdir('data_cache')\n",
    "        except:\n",
    "            pass\n",
    "        word_stats = {}\n",
    "        \n",
    "        contains_word = np.array([(word in data_text) for data_text in data_texts])\n",
    "        p0 = sum(contains_word) / n_tweets\n",
    "\n",
    "        word_stats['p_bar'], word_stats['r'], word_stats['beliefs'] = bcp.inference(contains_word[ind_tweets], h=h, p0=p0, max_T=max_run_length)\n",
    "\n",
    "        with open(filename, 'wb') as f:\n",
    "            pickle.dump(word_stats, f)\n",
    "\n",
    "    p_hat, r_hat = bcp.readout(word_stats['p_bar'], word_stats['r'], word_stats['beliefs'])#, mode='max')\n",
    "    \n",
    "\n",
    "    #datemin = datetime.date(datetimes.min(), 1, 1)\n",
    "    #datemax = datetime.date(datetimes.max() + 1, 1, 1)\n",
    "    #ax.set_xlim(datemin, datemax)\n",
    "    ax.xaxis.set_major_locator(years)\n",
    "    ax.xaxis.set_major_formatter(yearsFmt)\n",
    "    ax.xaxis.set_minor_locator(months)\n",
    "    ax.format_xdata = mdates.DateFormatter('%Y-%m-%d')\n",
    "    #ax.set_yscale('log')\n",
    "ax.set_xlabel('Date')\n",
    "ax.set_ylabel('Estimated probability')    \n",
    "ax.legend(loc='best')"
   ]
  },
  {
   "cell_type": "markdown",
   "metadata": {},
   "source": [
    "Use a http://textblob.readthedocs.io/en/dev/ to extract ``sentiment.polarity`` / or if all words are correct using Spelling Correction"
   ]
  },
  {
   "cell_type": "markdown",
   "metadata": {},
   "source": [
    "Use http://www.nltk.org/book/ch02.html to compute relative word frequencies."
   ]
  },
  {
   "cell_type": "code",
   "execution_count": null,
   "metadata": {
    "ExecuteTime": {
     "start_time": "2018-03-30T10:25:50.832Z"
    }
   },
   "outputs": [],
   "source": [
    "!pip3 install textblob"
   ]
  },
  {
   "cell_type": "code",
   "execution_count": null,
   "metadata": {
    "ExecuteTime": {
     "start_time": "2018-03-30T10:25:50.833Z"
    }
   },
   "outputs": [],
   "source": [
    "!ipython -m textblob.download_corpora"
   ]
  },
  {
   "cell_type": "code",
   "execution_count": null,
   "metadata": {
    "ExecuteTime": {
     "start_time": "2018-03-30T10:25:50.834Z"
    }
   },
   "outputs": [],
   "source": [
    "from textblob import TextBlob\n",
    "\n",
    "text = '''\n",
    "The titular threat of The Blob has always struck me as the ultimate movie\n",
    "monster: an insatiably hungry, amoeba-like mass able to penetrate\n",
    "virtually any safeguard, capable of--as a doomed doctor chillingly\n",
    "describes it--\"assimilating flesh on contact.\n",
    "Snide comparisons to gelatin be damned, it's a concept with the most\n",
    "devastating of potential consequences, not unlike the grey goo scenario\n",
    "proposed by technological theorists fearful of\n",
    "artificial intelligence run rampant.\n",
    "'''\n",
    "\n",
    "blob = TextBlob(text)\n",
    "blob.tags           # [('The', 'DT'), ('titular', 'JJ'),\n",
    "                    #  ('threat', 'NN'), ('of', 'IN'), ...]\n",
    "\n",
    "blob.noun_phrases   # WordList(['titular threat', 'blob',\n",
    "                    #            'ultimate movie monster',\n",
    "                    #            'amoeba-like mass', ...])\n",
    "\n",
    "for sentence in blob.sentences:\n",
    "    print(sentence.sentiment.polarity)\n",
    "# 0.060\n",
    "# -0.341\n",
    "\n",
    "blob.translate(to=\"fr\")  # 'La amenaza titular de The Blob...'\n",
    "\n"
   ]
  },
  {
   "cell_type": "code",
   "execution_count": null,
   "metadata": {},
   "outputs": [],
   "source": []
  }
 ],
 "metadata": {
  "kernel_info": {
   "name": "python3"
  },
  "kernelspec": {
   "display_name": "Python 3",
   "language": "python",
   "name": "python3"
  },
  "language_info": {
   "codemirror_mode": {
    "name": "ipython",
    "version": 3
   },
   "file_extension": ".py",
   "mimetype": "text/x-python",
   "name": "python",
   "nbconvert_exporter": "python",
   "pygments_lexer": "ipython3",
   "version": "3.6.4"
  },
  "nbdime-conflicts": {
   "local_diff": [
    {
     "diff": [
      {
       "diff": [
        {
         "diff": [
          {
           "key": 4,
           "op": "addrange",
           "valuelist": "4"
          },
          {
           "key": 4,
           "length": 1,
           "op": "removerange"
          }
         ],
         "key": 0,
         "op": "patch"
        }
       ],
       "key": "version",
       "op": "patch"
      }
     ],
     "key": "language_info",
     "op": "patch"
    }
   ],
   "remote_diff": [
    {
     "diff": [
      {
       "diff": [
        {
         "key": 0,
         "length": 1,
         "op": "removerange"
        }
       ],
       "key": "version",
       "op": "patch"
      }
     ],
     "key": "language_info",
     "op": "patch"
    }
   ]
  },
  "toc": {
   "nav_menu": {
    "height": "135px",
    "width": "252px"
   },
   "number_sections": true,
   "sideBar": true,
   "skip_h1_title": false,
   "title_cell": "Table of Contents",
   "title_sidebar": "Contents",
   "toc_cell": false,
   "toc_position": {},
   "toc_section_display": "block",
   "toc_window_display": false
  }
 },
 "nbformat": 4,
 "nbformat_minor": 1
}
