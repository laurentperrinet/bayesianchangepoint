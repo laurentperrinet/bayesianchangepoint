{
 "cells": [
  {
   "cell_type": "code",
   "execution_count": 1,
   "metadata": {
    "ExecuteTime": {
     "end_time": "2018-04-09T09:38:52.443490Z",
     "start_time": "2018-04-09T09:38:52.206307Z"
    }
   },
   "outputs": [],
   "source": [
    "%load_ext autoreload\n",
    "%autoreload 2\n",
    "from __future__ import division, print_function, absolute_import\n",
    "import numpy as np\n",
    "import matplotlib.pyplot as plt\n",
    "fig_width = 12\n",
    "%matplotlib inline"
   ]
  },
  {
   "cell_type": "code",
   "execution_count": 2,
   "metadata": {
    "ExecuteTime": {
     "end_time": "2018-04-09T09:38:52.456040Z",
     "start_time": "2018-04-09T09:38:52.445089Z"
    }
   },
   "outputs": [],
   "source": [
    "import bayesianchangepoint as bcp"
   ]
  },
  {
   "cell_type": "markdown",
   "metadata": {},
   "source": [
    "\n",
    "## performing inference: application to experimental data\n",
    "\n",
    "\n",
    "get your trump data:\n",
    "\n",
    "https://github.com/bpb27/trump_tweet_data_archive"
   ]
  },
  {
   "cell_type": "code",
   "execution_count": 3,
   "metadata": {
    "ExecuteTime": {
     "end_time": "2018-04-09T09:38:53.462557Z",
     "start_time": "2018-04-09T09:38:52.457537Z"
    },
    "scrolled": false
   },
   "outputs": [],
   "source": [
    "from io import BytesIO\n",
    "from zipfile import ZipFile\n",
    "import urllib.request\n",
    "import json\n",
    "\n",
    "datafile = 'trumpets.json'\n",
    "datafile = '/tmp/trumpets.json'\n",
    "\n",
    "try:\n",
    "    with open(datafile, 'r') as f:\n",
    "        data = json.load(f)\n",
    "except:\n",
    "    years = [8] #[2, 3, 4, 5, 6, 7]\n",
    "    years = [6, 7]\n",
    "    years = [2, 3, 4, 5, 6, 7, 8]\n",
    "    years = [5, 6, 7]#, 8]\n",
    "\n",
    "\n",
    "\n",
    "    data = []\n",
    "    arctype = 'condensed'\n",
    "    arctype = 'master'\n",
    "    for year in years:\n",
    "        url = urllib.request.urlopen(\"https://github.com/bpb27/trump_tweet_data_archive/blob/master/{arctype}_201{Y}.json.zip?raw=true\".format(arctype=arctype, Y=str(year)))\n",
    "        print('Downloading ', url, '...')\n",
    "        with ZipFile(BytesIO(url.read())) as my_zip_file:\n",
    "            for contained_file in my_zip_file.namelist():\n",
    "                with my_zip_file.open(contained_file) as f:\n",
    "                    #data.extend(json.load(f))\n",
    "                    data.extend(json.loads(f.read().decode('utf-8')))\n",
    "    with open(datafile, 'w') as f:\n",
    "        json.dump(data, f)          "
   ]
  },
  {
   "cell_type": "code",
   "execution_count": 4,
   "metadata": {
    "ExecuteTime": {
     "end_time": "2018-04-09T09:38:53.595242Z",
     "start_time": "2018-04-09T09:38:53.464570Z"
    }
   },
   "outputs": [
    {
     "name": "stdout",
     "output_type": "stream",
     "text": [
      "-rw-r--r--  1 laurentperrinet  wheel    53M Apr  9 11:32 /tmp/trumpets.json\r\n"
     ]
    }
   ],
   "source": [
    "!ls -ltrh /tmp/*json"
   ]
  },
  {
   "cell_type": "code",
   "execution_count": 22,
   "metadata": {
    "ExecuteTime": {
     "end_time": "2018-04-09T09:39:30.168643Z",
     "start_time": "2018-04-09T09:39:30.032788Z"
    }
   },
   "outputs": [],
   "source": [
    "!rm -fr /tmp/trumpets.json"
   ]
  },
  {
   "cell_type": "code",
   "execution_count": 5,
   "metadata": {
    "ExecuteTime": {
     "end_time": "2018-04-09T09:38:53.610541Z",
     "start_time": "2018-04-09T09:38:53.597216Z"
    },
    "scrolled": true
   },
   "outputs": [
    {
     "name": "stdout",
     "output_type": "stream",
     "text": [
      "number ow tweets= 16971\n"
     ]
    }
   ],
   "source": [
    "n_tweets = len(data)\n",
    "print('number ow tweets=', n_tweets)"
   ]
  },
  {
   "cell_type": "markdown",
   "metadata": {},
   "source": [
    "## example tweet"
   ]
  },
  {
   "cell_type": "code",
   "execution_count": 6,
   "metadata": {
    "ExecuteTime": {
     "end_time": "2018-04-09T09:38:53.628085Z",
     "start_time": "2018-04-09T09:38:53.612398Z"
    }
   },
   "outputs": [
    {
     "data": {
      "text/plain": [
       "{'contributors': None,\n",
       " 'coordinates': None,\n",
       " 'created_at': 'Tue Sep 29 03:51:52 +0000 2015',\n",
       " 'entities': {'hashtags': [],\n",
       "  'symbols': [],\n",
       "  'urls': [],\n",
       "  'user_mentions': [{'id': 18281493,\n",
       "    'id_str': '18281493',\n",
       "    'indices': [1, 9],\n",
       "    'name': 'polina6',\n",
       "    'screen_name': 'polina6'},\n",
       "   {'id': 25073877,\n",
       "    'id_str': '25073877',\n",
       "    'indices': [11, 27],\n",
       "    'name': 'Donald J. Trump',\n",
       "    'screen_name': 'realDonaldTrump'}]},\n",
       " 'favorite_count': 3251,\n",
       " 'favorited': False,\n",
       " 'geo': None,\n",
       " 'id': 648706734270382080,\n",
       " 'id_str': '648706734270382080',\n",
       " 'in_reply_to_screen_name': None,\n",
       " 'in_reply_to_status_id': None,\n",
       " 'in_reply_to_status_id_str': None,\n",
       " 'in_reply_to_user_id': None,\n",
       " 'in_reply_to_user_id_str': None,\n",
       " 'is_quote_status': False,\n",
       " 'lang': 'en',\n",
       " 'place': None,\n",
       " 'retweet_count': 1306,\n",
       " 'retweeted': False,\n",
       " 'source': '<a href=\"http://twitter.com/download/android\" rel=\"nofollow\">Twitter for Android</a>',\n",
       " 'text': '\"@polina6: @realDonaldTrump MAN WITH A PLAN-THE BEST TAX PLAN! GO TRUMP 2016!\"',\n",
       " 'truncated': False,\n",
       " 'user': {'contributors_enabled': False,\n",
       "  'created_at': 'Wed Mar 18 13:46:38 +0000 2009',\n",
       "  'default_profile': False,\n",
       "  'default_profile_image': False,\n",
       "  'description': 'President-elect of the United States',\n",
       "  'entities': {'description': {'urls': []},\n",
       "   'url': {'urls': [{'display_url': 'DonaldJTrump.com',\n",
       "      'expanded_url': 'http://www.DonaldJTrump.com',\n",
       "      'indices': [0, 23],\n",
       "      'url': 'https://t.co/mZB2hymxC9'}]}},\n",
       "  'favourites_count': 45,\n",
       "  'follow_request_sent': False,\n",
       "  'followers_count': 15668336,\n",
       "  'following': True,\n",
       "  'friends_count': 41,\n",
       "  'geo_enabled': True,\n",
       "  'has_extended_profile': False,\n",
       "  'id': 25073877,\n",
       "  'id_str': '25073877',\n",
       "  'is_translation_enabled': True,\n",
       "  'is_translator': False,\n",
       "  'lang': 'en',\n",
       "  'listed_count': 45254,\n",
       "  'location': 'New York, NY',\n",
       "  'name': 'Donald J. Trump',\n",
       "  'notifications': True,\n",
       "  'profile_background_color': '6D5C18',\n",
       "  'profile_background_image_url': 'http://pbs.twimg.com/profile_background_images/530021613/trump_scotland__43_of_70_cc.jpg',\n",
       "  'profile_background_image_url_https': 'https://pbs.twimg.com/profile_background_images/530021613/trump_scotland__43_of_70_cc.jpg',\n",
       "  'profile_background_tile': True,\n",
       "  'profile_banner_url': 'https://pbs.twimg.com/profile_banners/25073877/1479267159',\n",
       "  'profile_image_url': 'http://pbs.twimg.com/profile_images/1980294624/DJT_Headshot_V2_normal.jpg',\n",
       "  'profile_image_url_https': 'https://pbs.twimg.com/profile_images/1980294624/DJT_Headshot_V2_normal.jpg',\n",
       "  'profile_link_color': '0D5B73',\n",
       "  'profile_sidebar_border_color': 'BDDCAD',\n",
       "  'profile_sidebar_fill_color': 'C5CEC0',\n",
       "  'profile_text_color': '333333',\n",
       "  'profile_use_background_image': True,\n",
       "  'protected': False,\n",
       "  'screen_name': 'realDonaldTrump',\n",
       "  'statuses_count': 34010,\n",
       "  'time_zone': 'Eastern Time (US & Canada)',\n",
       "  'translator_type': 'none',\n",
       "  'url': 'https://t.co/mZB2hymxC9',\n",
       "  'utc_offset': -18000,\n",
       "  'verified': True}}"
      ]
     },
     "execution_count": 6,
     "metadata": {},
     "output_type": "execute_result"
    }
   ],
   "source": [
    "i_sample = 42\n",
    "i_sample = 1973\n",
    "d = data[i_sample]\n",
    "d#.keys()#['followers_count']"
   ]
  },
  {
   "cell_type": "markdown",
   "metadata": {},
   "source": [
    "## learning to handle datetimes\n",
    "\n",
    "https://docs.python.org/3/library/datetime.html\n"
   ]
  },
  {
   "cell_type": "code",
   "execution_count": 7,
   "metadata": {
    "ExecuteTime": {
     "end_time": "2018-04-09T09:38:53.776546Z",
     "start_time": "2018-04-09T09:38:53.629565Z"
    },
    "scrolled": true
   },
   "outputs": [
    {
     "data": {
      "image/png": "[encoded data removed]",
      "text/plain": [
       "<Figure size 432x288 with 1 Axes>"
      ]
     },
     "metadata": {},
     "output_type": "display_data"
    }
   ],
   "source": [
    "followers = [data[i]['user']['followers_count'] for i in range(n_tweets)]\n",
    "plt.plot(followers);"
   ]
  },
  {
   "cell_type": "code",
   "execution_count": 8,
   "metadata": {
    "ExecuteTime": {
     "end_time": "2018-04-09T09:38:53.804019Z",
     "start_time": "2018-04-09T09:38:53.778285Z"
    }
   },
   "outputs": [
    {
     "data": {
      "text/plain": [
       "'\"@polina6: @realdonaldtrump man with a plan-the best tax plan! go trump 2016!\"'"
      ]
     },
     "execution_count": 8,
     "metadata": {},
     "output_type": "execute_result"
    }
   ],
   "source": [
    "data_texts = []\n",
    "for i_tweet in range(n_tweets):\n",
    "    try:\n",
    "        data_texts.append(data[i_sample]['full_text'].lower())\n",
    "    except KeyError:\n",
    "        data_texts.append(data[i_sample]['text'].lower())\n",
    "\n",
    "data_texts[i_sample]"
   ]
  },
  {
   "cell_type": "code",
   "execution_count": 9,
   "metadata": {
    "ExecuteTime": {
     "end_time": "2018-04-09T09:38:53.847223Z",
     "start_time": "2018-04-09T09:38:53.805644Z"
    }
   },
   "outputs": [
    {
     "name": "stdout",
     "output_type": "stream",
     "text": [
      "0 tweets contain the word \" ? \" on a total of  16971 tweets\n"
     ]
    }
   ],
   "source": [
    "word = 'america'\n",
    "word = '?'\n",
    "contains_word = np.array([(word in data_text) for data_text in data_texts])\n",
    "print(sum(contains_word), 'tweets contain the word \"', word, '\" on a total of ', n_tweets, 'tweets')"
   ]
  },
  {
   "cell_type": "code",
   "execution_count": 10,
   "metadata": {
    "ExecuteTime": {
     "end_time": "2018-04-09T09:38:53.870509Z",
     "start_time": "2018-04-09T09:38:53.849018Z"
    }
   },
   "outputs": [
    {
     "name": "stdout",
     "output_type": "stream",
     "text": [
      "|Thu Dec 31 23:21:49 +0000 2015|\n"
     ]
    }
   ],
   "source": [
    "datetimes = [data[i]['created_at'] for i in range(n_tweets)]\n",
    "print('|'+datetimes[0]+'|')"
   ]
  },
  {
   "cell_type": "code",
   "execution_count": 11,
   "metadata": {
    "ExecuteTime": {
     "end_time": "2018-04-09T09:38:53.884507Z",
     "start_time": "2018-04-09T09:38:53.872005Z"
    }
   },
   "outputs": [
    {
     "data": {
      "text/plain": [
       "('en_US', 'UTF-8')"
      ]
     },
     "execution_count": 11,
     "metadata": {},
     "output_type": "execute_result"
    }
   ],
   "source": [
    "import locale\n",
    "locale.getlocale()"
   ]
  },
  {
   "cell_type": "code",
   "execution_count": 12,
   "metadata": {
    "ExecuteTime": {
     "end_time": "2018-04-09T09:38:54.122678Z",
     "start_time": "2018-04-09T09:38:53.886308Z"
    }
   },
   "outputs": [
    {
     "name": "stdout",
     "output_type": "stream",
     "text": [
      "Timestamp= 1451604109.0\n"
     ]
    }
   ],
   "source": [
    "from datetime import datetime\n",
    "\n",
    "datetimes = [datetime.strptime(data[i]['created_at'], '%a %b %d %H:%M:%S %z %Y') for i in range(n_tweets)]\n",
    "print('Timestamp=', datetimes[0].timestamp())"
   ]
  },
  {
   "cell_type": "code",
   "execution_count": 13,
   "metadata": {
    "ExecuteTime": {
     "end_time": "2018-04-09T09:38:54.364547Z",
     "start_time": "2018-04-09T09:38:54.124376Z"
    }
   },
   "outputs": [
    {
     "name": "stdout",
     "output_type": "stream",
     "text": [
      "Timestamp= 1451604109.0\n"
     ]
    }
   ],
   "source": [
    "from datetime import datetime\n",
    "\n",
    "datetimes = np.array([datetime.strptime(data[i]['created_at'], '%a %b %d %H:%M:%S %z %Y').timestamp() for i in range(n_tweets)])\n",
    "print('Timestamp=', (datetimes[0]))"
   ]
  },
  {
   "cell_type": "code",
   "execution_count": 14,
   "metadata": {
    "ExecuteTime": {
     "end_time": "2018-04-09T09:38:54.597822Z",
     "start_time": "2018-04-09T09:38:54.366030Z"
    }
   },
   "outputs": [
    {
     "name": "stdout",
     "output_type": "stream",
     "text": [
      "Timestamp= 1451604109.0\n"
     ]
    }
   ],
   "source": [
    "from datetime import datetime\n",
    "\n",
    "datetimes = [datetime.strptime(data[i]['created_at'], '%a %b %d %H:%M:%S %z %Y') for i in range(n_tweets)]\n",
    "print('Timestamp=', datetimes[0].timestamp())"
   ]
  },
  {
   "cell_type": "code",
   "execution_count": 15,
   "metadata": {
    "ExecuteTime": {
     "end_time": "2018-04-09T09:38:54.917456Z",
     "start_time": "2018-04-09T09:38:54.599584Z"
    }
   },
   "outputs": [
    {
     "data": {
      "image/png": "[encoded data removed]",
      "text/plain": [
       "<Figure size 936x578.492 with 1 Axes>"
      ]
     },
     "metadata": {},
     "output_type": "display_data"
    }
   ],
   "source": [
    "fig_width = 13\n",
    "fig, ax = plt.subplots(figsize=(fig_width, fig_width/1.6180))\n",
    "ax.plot(datetimes);"
   ]
  },
  {
   "cell_type": "markdown",
   "metadata": {},
   "source": [
    "It seems that within each year, tweets are in inverse chronological order. \n",
    "Let's sort things:"
   ]
  },
  {
   "cell_type": "code",
   "execution_count": 16,
   "metadata": {
    "ExecuteTime": {
     "end_time": "2018-04-09T09:38:55.235972Z",
     "start_time": "2018-04-09T09:38:54.919175Z"
    }
   },
   "outputs": [
    {
     "data": {
      "image/png": "[encoded data removed]",
      "text/plain": [
       "<Figure size 936x578.492 with 1 Axes>"
      ]
     },
     "metadata": {},
     "output_type": "display_data"
    }
   ],
   "source": [
    "datetimes = np.array(datetimes)\n",
    "ind_tweets = np.argsort(datetimes)\n",
    "\n",
    "fig, ax = plt.subplots(figsize=(fig_width, fig_width/1.6180))\n",
    "ax.plot(datetimes[ind_tweets]);"
   ]
  },
  {
   "cell_type": "markdown",
   "metadata": {},
   "source": [
    "We will be using https://matplotlib.org/examples/api/date_demo.html"
   ]
  },
  {
   "cell_type": "markdown",
   "metadata": {},
   "source": [
    "## evolution of followers"
   ]
  },
  {
   "cell_type": "code",
   "execution_count": 17,
   "metadata": {
    "ExecuteTime": {
     "end_time": "2018-04-09T09:38:55.251074Z",
     "start_time": "2018-04-09T09:38:55.237619Z"
    }
   },
   "outputs": [],
   "source": [
    "import datetime\n",
    "import matplotlib.dates as mdates\n",
    "import matplotlib.cbook as cbook\n",
    "years = mdates.YearLocator()   # every year\n",
    "months = mdates.MonthLocator()  # every month\n",
    "yearsFmt = mdates.DateFormatter('%Y')\n",
    "\n",
    "monthsFmt = mdates.DateFormatter('%Y-%m')\n",
    "\n"
   ]
  },
  {
   "cell_type": "code",
   "execution_count": 18,
   "metadata": {
    "ExecuteTime": {
     "end_time": "2018-04-09T09:38:55.580198Z",
     "start_time": "2018-04-09T09:38:55.252574Z"
    }
   },
   "outputs": [
    {
     "data": {
      "image/png": "[encoded data removed]",
      "text/plain": [
       "<Figure size 936x578.492 with 1 Axes>"
      ]
     },
     "metadata": {},
     "output_type": "display_data"
    }
   ],
   "source": [
    "followers = np.array([data[i]['user']['followers_count'] for i in range(n_tweets)])\n",
    "\n",
    "fig_width = 13\n",
    "fig, ax = plt.subplots(figsize=(fig_width, fig_width/1.6180))\n",
    "ax.plot(datetimes[ind_tweets], followers[ind_tweets])\n",
    "ax.xaxis.set_major_locator(years)\n",
    "ax.xaxis.set_major_formatter(yearsFmt)\n",
    "ax.xaxis.set_minor_locator(months)\n",
    "ax.format_xdata = mdates.DateFormatter('%Y-%m-%d');"
   ]
  },
  {
   "cell_type": "code",
   "execution_count": 19,
   "metadata": {
    "ExecuteTime": {
     "end_time": "2018-04-09T09:38:55.626664Z",
     "start_time": "2018-04-09T09:38:55.581905Z"
    }
   },
   "outputs": [
    {
     "data": {
      "text/plain": [
       "'to all americans-\\n#happynewyear &amp; many blessings to you all! looking forward to a wonderful &amp; prosperous 2017 as we… https://t.co/1asdmal4iy'"
      ]
     },
     "execution_count": 19,
     "metadata": {},
     "output_type": "execute_result"
    }
   ],
   "source": [
    "i= 42\n",
    "data_texts = []\n",
    "for i in range(n_tweets):\n",
    "    try:\n",
    "        data_texts.append(data[i]['full_text'].lower())\n",
    "    except KeyError:\n",
    "        data_texts.append(data[i]['text'].lower())\n",
    "\n",
    "data_texts[i]"
   ]
  },
  {
   "cell_type": "markdown",
   "metadata": {},
   "source": [
    "## detecting change points for using Android vs iPhone\n"
   ]
  },
  {
   "cell_type": "markdown",
   "metadata": {},
   "source": [
    "Detecting tweets from staff (see http://varianceexplained.org/r/trump-tweets/)"
   ]
  },
  {
   "cell_type": "code",
   "execution_count": 24,
   "metadata": {
    "ExecuteTime": {
     "end_time": "2018-04-09T09:40:36.037075Z",
     "start_time": "2018-04-09T09:40:36.023871Z"
    }
   },
   "outputs": [
    {
     "data": {
      "text/plain": [
       "'<a href=\"http://twitter.com/download/android\" rel=\"nofollow\">Twitter for Android</a>'"
      ]
     },
     "execution_count": 24,
     "metadata": {},
     "output_type": "execute_result"
    }
   ],
   "source": [
    "data[i_sample]['source']"
   ]
  },
  {
   "cell_type": "code",
   "execution_count": 25,
   "metadata": {
    "ExecuteTime": {
     "end_time": "2018-04-09T09:40:36.788135Z",
     "start_time": "2018-04-09T09:40:36.776075Z"
    }
   },
   "outputs": [
    {
     "data": {
      "text/plain": [
       "False"
      ]
     },
     "execution_count": 25,
     "metadata": {},
     "output_type": "execute_result"
    }
   ],
   "source": [
    "'iPhone' in data[i_sample]['source']"
   ]
  },
  {
   "cell_type": "code",
   "execution_count": 28,
   "metadata": {
    "ExecuteTime": {
     "end_time": "2018-04-09T09:40:48.817885Z",
     "start_time": "2018-04-09T09:40:48.737758Z"
    }
   },
   "outputs": [
    {
     "name": "stdout",
     "output_type": "stream",
     "text": [
      "6581 tweets from an iPhone on a total of  16971 tweets\n",
      "That is, an average probability of p0=  0.38777915267220553\n"
     ]
    }
   ],
   "source": [
    "data_mobileos = np.array([('iPhone' in tweet['source']) for tweet in data])\n",
    "print(sum(data_mobileos), 'tweets from an iPhone on a total of ', n_tweets, 'tweets')\n",
    "p0 = sum(data_mobileos) / n_tweets\n",
    "print('That is, an average probability of p0= ', p0)"
   ]
  },
  {
   "cell_type": "code",
   "execution_count": 29,
   "metadata": {
    "ExecuteTime": {
     "end_time": "2018-04-09T09:40:49.652192Z",
     "start_time": "2018-04-09T09:40:49.640494Z"
    }
   },
   "outputs": [],
   "source": [
    "for h in [1/500/(2**k) for k in range(5)]:\n",
    "    max_run_length = int(6/h)\n",
    "\n",
    "    p_bar, r, beliefs = bcp.inference(data_mobileos[ind_tweets], h=h, p0=p0)\n",
    "\n",
    "    fig, axs = bcp.plot_inference(data_mobileos[ind_tweets], None, p_bar, r, beliefs, mode='expectation', max_run_length=max_run_length)\n",
    "    ax = axs[-1]\n",
    "    ax.xaxis.set_major_locator(years)\n",
    "    ax.xaxis.set_major_formatter(yearsFmt)\n",
    "    ax.xaxis.set_minor_locator(months)\n",
    "    ax.format_xdata = mdates.DateFormatter('%Y-%m-%d')\n",
    "    plt.show()"
   ]
  },
  {
   "cell_type": "code",
   "execution_count": 39,
   "metadata": {
    "ExecuteTime": {
     "end_time": "2018-04-09T11:04:01.628386Z",
     "start_time": "2018-04-09T11:02:39.673107Z"
    }
   },
   "outputs": [
    {
     "data": {
      "text/plain": [
       "(0, 1)"
      ]
     },
     "execution_count": 39,
     "metadata": {},
     "output_type": "execute_result"
    },
    {
     "data": {
      "image/png": "[encoded data removed]",
      "text/plain": [
       "<Figure size 936x578.492 with 1 Axes>"
      ]
     },
     "metadata": {},
     "output_type": "display_data"
    }
   ],
   "source": [
    "fig, ax = plt.subplots(figsize=(fig_width, fig_width/1.6180))\n",
    "\n",
    "h = 1./10000\n",
    "#max_run_length = 4500 #int(6/h)\n",
    "p_bar, r_bar, beliefs = bcp.inference(data_mobileos[ind_tweets], h=h, p0=p0)#, max_T=max_run_length)\n",
    "p_hat, r_hat = bcp.readout(p_bar, r_bar, beliefs, mode='expectation')\n",
    "\n",
    "ax.plot(datetimes[ind_tweets], p_hat, c='r', label=word)\n",
    "\n",
    "if True:\n",
    "    ax.xaxis.set_major_locator(years)\n",
    "    ax.xaxis.set_major_formatter(yearsFmt)\n",
    "    ax.xaxis.set_minor_locator(months)\n",
    "else:\n",
    "    ax.xaxis.set_major_locator(months)\n",
    "    ax.xaxis.set_major_formatter(monthsFmt)\n",
    "\n",
    "for tick in ax.get_xticklabels():\n",
    "    tick.set_rotation(45)\n",
    "\n",
    "ax.set_xlabel('Date')\n",
    "ax.set_ylabel('Estimated probability')    \n",
    "\n",
    "#ax.set_xlim(datetime.datetime(2015, 6, 15, 12, 21, 4, tzinfo=datetime.timezone.utc), datetime.datetime(2017, 12, 31, 18, 59, 4, tzinfo=datetime.timezone.utc))\n",
    "ax.set_xlim(datetime.datetime(2015, 1, 1, 12, 21, 4, tzinfo=datetime.timezone.utc))\n",
    "#ax.set_yscale('log')\n",
    "ax.set_ylim(0, 1)"
   ]
  },
  {
   "cell_type": "markdown",
   "metadata": {},
   "source": [
    "## detecting change points for some words\n",
    "\n"
   ]
  },
  {
   "cell_type": "code",
   "execution_count": null,
   "metadata": {
    "ExecuteTime": {
     "end_time": "2018-04-09T09:38:55.740153Z",
     "start_time": "2018-04-09T09:38:52.235Z"
    }
   },
   "outputs": [],
   "source": [
    "word = 'america'\n",
    "contains_word = np.array([(word in data_text) for data_text in data_texts])\n",
    "print(sum(contains_word), 'tweets contain the word \"', word, '\" on a total of ', n_tweets, 'tweets')\n",
    "p0 = sum(contains_word) / n_tweets\n",
    "print('That is, an average probability of p0= ', p0)"
   ]
  },
  {
   "cell_type": "code",
   "execution_count": null,
   "metadata": {
    "ExecuteTime": {
     "end_time": "2018-04-09T09:38:55.741188Z",
     "start_time": "2018-04-09T09:38:52.237Z"
    }
   },
   "outputs": [],
   "source": [
    "h = 1/1500\n",
    "max_run_length = int(6/h)\n",
    "p0 = sum(contains_word) / n_tweets"
   ]
  },
  {
   "cell_type": "code",
   "execution_count": null,
   "metadata": {
    "ExecuteTime": {
     "end_time": "2018-04-09T09:38:55.742224Z",
     "start_time": "2018-04-09T09:38:52.238Z"
    }
   },
   "outputs": [],
   "source": [
    "p_bar, r, beliefs = bcp.inference(contains_word[ind_tweets], h=h, p0=p0)"
   ]
  },
  {
   "cell_type": "code",
   "execution_count": null,
   "metadata": {
    "ExecuteTime": {
     "end_time": "2018-04-09T09:38:55.743142Z",
     "start_time": "2018-04-09T09:38:52.240Z"
    },
    "scrolled": false
   },
   "outputs": [],
   "source": [
    "fig, axs = bcp.plot_inference(contains_word[ind_tweets], None, p_bar, r, beliefs, mode='hindsight', max_run_length=max_run_length)\n",
    "ax = axs[-1]\n",
    "ax.xaxis.set_major_locator(years)\n",
    "ax.xaxis.set_major_formatter(yearsFmt)\n",
    "ax.xaxis.set_minor_locator(months)\n",
    "ax.format_xdata = mdates.DateFormatter('%Y-%m-%d')"
   ]
  },
  {
   "cell_type": "markdown",
   "metadata": {},
   "source": [
    "## wraping things up"
   ]
  },
  {
   "cell_type": "code",
   "execution_count": null,
   "metadata": {
    "ExecuteTime": {
     "end_time": "2018-04-09T09:38:55.744010Z",
     "start_time": "2018-04-09T09:38:52.241Z"
    }
   },
   "outputs": [],
   "source": [
    "!ls -ltr -fr /tmp/data_cache"
   ]
  },
  {
   "cell_type": "raw",
   "metadata": {
    "ExecuteTime": {
     "start_time": "2018-04-04T14:18:18.939Z"
    }
   },
   "source": [
    "!rm -fr /tmp/data_cache"
   ]
  },
  {
   "cell_type": "code",
   "execution_count": null,
   "metadata": {
    "ExecuteTime": {
     "end_time": "2018-04-09T09:38:55.745014Z",
     "start_time": "2018-04-09T09:38:52.254Z"
    },
    "scrolled": false
   },
   "outputs": [],
   "source": [
    "def analyze(words, mode_, fig_width=8):\n",
    "    \n",
    "    \n",
    "    \n",
    "    fixed_window_size = 200\n",
    "\n",
    "\n",
    "    fig, ax = plt.subplots(figsize=(fig_width, fig_width/1.6180))\n",
    "\n",
    "\n",
    "    print ('mode', mode_)\n",
    "    for word, c in zip(words, ['b', 'r', 'k', 'g']): #'?', '!', \n",
    "\n",
    "        filename = \"/tmp/data_cache/\" + word + \".npz\"\n",
    "        try:\n",
    "            npzfile = np.load(filename)\n",
    "            p_bar, r_bar, beliefs = npzfile['p_bar'], npzfile['r_bar'], npzfile['beliefs'] \n",
    "            #hack # to recompute files \n",
    "        except Exception as e:\n",
    "            print('Computing for word' , word, ' - ', e)\n",
    "            try:\n",
    "                import os\n",
    "                os.mkdir('/tmp/data_cache')\n",
    "            except:\n",
    "                pass\n",
    "\n",
    "            contains_word = np.array([(word in data_text) for data_text in data_texts])\n",
    "            p0 = sum(contains_word) / n_tweets\n",
    "\n",
    "            p_bar, r_bar, beliefs = bcp.inference(contains_word[ind_tweets], h=h, p0=p0)#, max_T=max_run_length)\n",
    "\n",
    "            np.savez(filename, p_bar=p_bar, r_bar=r_bar, beliefs=beliefs)\n",
    "\n",
    "        if mode_=='fixed': \n",
    "            p_hat, r_hat = bcp.readout(p_bar, r_bar, beliefs, mode=mode_, fixed_window_size=fixed_window_size)\n",
    "        else:\n",
    "            p_hat, r_hat = bcp.readout(p_bar, r_bar, beliefs, mode=mode_)\n",
    "\n",
    "        if mode_=='hindsight':\n",
    "            print (np.gradient(p_hat).min(), np.gradient(p_hat).max())\n",
    "            highgrad = np.abs(np.gradient(p_hat)) > .2\n",
    "            p_hat[highgrad] = p_hat[highgrad+1]\n",
    "\n",
    "        ax.plot(datetimes[ind_tweets], p_hat, c=c, label=word)\n",
    "        #ax.plot(datetimes)\n",
    "\n",
    "\n",
    "    #datemin = datetime.date(datetimes.min(), 1, 1)\n",
    "    #datemax = datetime.date(datetimes.max() + 1, 1, 1)\n",
    "    #ax.set_xlim(datemin, datemax)\n",
    "    if True:\n",
    "        ax.xaxis.set_major_locator(years)\n",
    "        ax.xaxis.set_major_formatter(yearsFmt)\n",
    "        ax.xaxis.set_minor_locator(months)\n",
    "    else:\n",
    "        ax.xaxis.set_major_locator(months)\n",
    "        ax.xaxis.set_major_formatter(monthsFmt)\n",
    "    #ax.xaxis.set_minor_locator(months)\n",
    "    #ax.format_xdata = mdates.DateFormatter('%Y-%m-%d')\n",
    "    #ax.set_yscale('log')\n",
    "    for tick in ax.get_xticklabels():\n",
    "        tick.set_rotation(45)\n",
    "\n",
    "    ax.set_xlabel('Date')\n",
    "    ax.set_ylabel('Estimated probability')    \n",
    "    ax.legend(loc='best')\n",
    "    #ax.set_xlim(datetime.datetime(2015, 6, 15, 12, 21, 4, tzinfo=datetime.timezone.utc), datetime.datetime(2017, 12, 31, 18, 59, 4, tzinfo=datetime.timezone.utc))\n",
    "\n",
    "    ax.set_xlim(datetime.datetime(2015, 1, 1, 12, 21, 4, tzinfo=datetime.timezone.utc))\n",
    "    ax.set_ylim(0, 1)\n",
    "\n",
    "\n",
    "    return fig, ax\n",
    "\n",
    "modes = ['fixed', 'expectation', 'max', 'hindsight', ]\n",
    "modes = ['fixed', 'hindsight', ]\n",
    "\n",
    "\n",
    "for words in [['fake', 'news', 'america', 'russia'], \n",
    "              ['obama', 'hillary', 'putin', 'pence'],\n",
    "              ['golf', 'crazy', 'weak', 'joke'],\n",
    "              ['obama', 'hillary', 'crooked', 'CNN'],\n",
    "              ['covfefe', 'counsel', 'crooked', 'lightweight'],\n",
    "              ['great', 'amazing', 'bad', 'sad'],\n",
    "             ]:\n",
    "    for i_mode, mode_ in enumerate(modes):\n",
    "        fig, ax = analyze(words, mode_)\n",
    "        plt.show()\n",
    "        import os\n",
    "        fig.savefig(os.path.join('../../AnticipatorySPEM/figures', 'trump_' + mode_ + '.png'), dpi=400)\n"
   ]
  },
  {
   "cell_type": "code",
   "execution_count": null,
   "metadata": {
    "ExecuteTime": {
     "end_time": "2018-04-09T09:38:55.745901Z",
     "start_time": "2018-04-09T09:38:52.255Z"
    }
   },
   "outputs": [],
   "source": [
    "ax.set_xticklabels?\n"
   ]
  },
  {
   "cell_type": "code",
   "execution_count": null,
   "metadata": {
    "ExecuteTime": {
     "end_time": "2018-04-09T09:38:55.746726Z",
     "start_time": "2018-04-09T09:38:52.256Z"
    }
   },
   "outputs": [],
   "source": [
    "datetimes"
   ]
  },
  {
   "cell_type": "markdown",
   "metadata": {},
   "source": [
    "## future"
   ]
  },
  {
   "cell_type": "code",
   "execution_count": null,
   "metadata": {
    "ExecuteTime": {
     "end_time": "2018-04-09T09:38:55.747606Z",
     "start_time": "2018-04-09T09:38:52.257Z"
    }
   },
   "outputs": [],
   "source": [
    "break"
   ]
  },
  {
   "cell_type": "markdown",
   "metadata": {},
   "source": [
    "Use a http://textblob.readthedocs.io/en/dev/ to extract ``sentiment.polarity`` / or if all words are correct using Spelling Correction / see also http://text-processing.com/docs/sentiment.html"
   ]
  },
  {
   "cell_type": "markdown",
   "metadata": {},
   "source": [
    "Use http://www.nltk.org/book/ch02.html to compute relative word frequencies."
   ]
  },
  {
   "cell_type": "code",
   "execution_count": null,
   "metadata": {
    "ExecuteTime": {
     "end_time": "2018-04-09T09:38:55.748424Z",
     "start_time": "2018-04-09T09:38:52.259Z"
    }
   },
   "outputs": [],
   "source": [
    "!pip3 install textblob"
   ]
  },
  {
   "cell_type": "code",
   "execution_count": null,
   "metadata": {
    "ExecuteTime": {
     "end_time": "2018-04-09T09:38:55.749294Z",
     "start_time": "2018-04-09T09:38:52.260Z"
    }
   },
   "outputs": [],
   "source": [
    "!ipython -m textblob.download_corpora"
   ]
  },
  {
   "cell_type": "code",
   "execution_count": null,
   "metadata": {
    "ExecuteTime": {
     "end_time": "2018-04-09T09:38:55.750253Z",
     "start_time": "2018-04-09T09:38:52.262Z"
    }
   },
   "outputs": [],
   "source": [
    "from textblob import TextBlob\n",
    "\n",
    "text = '''\n",
    "The titular threat of The Blob has always struck me as the ultimate movie\n",
    "monster: an insatiably hungry, amoeba-like mass able to penetrate\n",
    "virtually any safeguard, capable of--as a doomed doctor chillingly\n",
    "describes it--\"assimilating flesh on contact.\n",
    "Snide comparisons to gelatin be damned, it's a concept with the most\n",
    "devastating of potential consequences, not unlike the grey goo scenario\n",
    "proposed by technological theorists fearful of\n",
    "artificial intelligence run rampant.\n",
    "'''\n",
    "\n",
    "blob = TextBlob(text)\n",
    "blob.tags           # [('The', 'DT'), ('titular', 'JJ'),\n",
    "                    #  ('threat', 'NN'), ('of', 'IN'), ...]\n",
    "\n",
    "blob.noun_phrases   # WordList(['titular threat', 'blob',\n",
    "                    #            'ultimate movie monster',\n",
    "                    #            'amoeba-like mass', ...])\n",
    "\n",
    "for sentence in blob.sentences:\n",
    "    print(sentence.sentiment.polarity)\n",
    "# 0.060\n",
    "# -0.341\n",
    "\n",
    "blob.translate(to=\"fr\")  # 'La amenaza titular de The Blob...'\n",
    "\n"
   ]
  }
 ],
 "metadata": {
  "kernel_info": {
   "name": "python3"
  },
  "kernelspec": {
   "display_name": "Python 3",
   "language": "python",
   "name": "python3"
  },
  "language_info": {
   "codemirror_mode": {
    "name": "ipython",
    "version": 3
   },
   "file_extension": ".py",
   "mimetype": "text/x-python",
   "name": "python",
   "nbconvert_exporter": "python",
   "pygments_lexer": "ipython3",
   "version": "3.6.5"
  },
  "nbdime-conflicts": {
   "local_diff": [
    {
     "diff": [
      {
       "diff": [
        {
         "diff": [
          {
           "key": 4,
           "op": "addrange",
           "valuelist": "4"
          },
          {
           "key": 4,
           "length": 1,
           "op": "removerange"
          }
         ],
         "key": 0,
         "op": "patch"
        }
       ],
       "key": "version",
       "op": "patch"
      }
     ],
     "key": "language_info",
     "op": "patch"
    }
   ],
   "remote_diff": [
    {
     "diff": [
      {
       "diff": [
        {
         "key": 0,
         "length": 1,
         "op": "removerange"
        }
       ],
       "key": "version",
       "op": "patch"
      }
     ],
     "key": "language_info",
     "op": "patch"
    }
   ]
  },
  "toc": {
   "nav_menu": {
    "height": "135px",
    "width": "252px"
   },
   "number_sections": true,
   "sideBar": true,
   "skip_h1_title": false,
   "title_cell": "Table of Contents",
   "title_sidebar": "Contents",
   "toc_cell": false,
   "toc_position": {},
   "toc_section_display": "block",
   "toc_window_display": false
  }
 },
 "nbformat": 4,
 "nbformat_minor": 1
}
